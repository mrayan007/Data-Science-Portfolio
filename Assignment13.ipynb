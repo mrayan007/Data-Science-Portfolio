{
 "cells": [
  {
   "cell_type": "markdown",
   "id": "06004dd1-9ed1-4cbb-bdb3-cbbbdf279ea1",
   "metadata": {},
   "source": [
    "# Assignment 13\n",
    "\n",
    "For this assignment, I have to perform a bivariate analysis on the penguins dataset for the following combination of columns:\n",
    "\n",
    "Species vs Sex & Island vs Sex.\n",
    "\n",
    "Let's begin with the first combination of columns, Species vs Sex. I don't expect that there is going to be a correlation between the two columns because I think that a creature's gender is determined by pure luck. Let's create a contingency table!"
   ]
  },
  {
   "cell_type": "code",
   "execution_count": 3,
   "id": "61241a4d-a7e9-4596-999d-6c6fdaffb67c",
   "metadata": {},
   "outputs": [
    {
     "data": {
      "text/html": [
       "<div>\n",
       "<style scoped>\n",
       "    .dataframe tbody tr th:only-of-type {\n",
       "        vertical-align: middle;\n",
       "    }\n",
       "\n",
       "    .dataframe tbody tr th {\n",
       "        vertical-align: top;\n",
       "    }\n",
       "\n",
       "    .dataframe thead th {\n",
       "        text-align: right;\n",
       "    }\n",
       "</style>\n",
       "<table border=\"1\" class=\"dataframe\">\n",
       "  <thead>\n",
       "    <tr style=\"text-align: right;\">\n",
       "      <th></th>\n",
       "      <th>species</th>\n",
       "      <th>island</th>\n",
       "      <th>bill_length_mm</th>\n",
       "      <th>bill_depth_mm</th>\n",
       "      <th>flipper_length_mm</th>\n",
       "      <th>body_mass_g</th>\n",
       "      <th>sex</th>\n",
       "    </tr>\n",
       "  </thead>\n",
       "  <tbody>\n",
       "    <tr>\n",
       "      <th>0</th>\n",
       "      <td>Adelie</td>\n",
       "      <td>Torgersen</td>\n",
       "      <td>39.1</td>\n",
       "      <td>18.7</td>\n",
       "      <td>181.0</td>\n",
       "      <td>3750.0</td>\n",
       "      <td>Male</td>\n",
       "    </tr>\n",
       "    <tr>\n",
       "      <th>1</th>\n",
       "      <td>Adelie</td>\n",
       "      <td>Torgersen</td>\n",
       "      <td>39.5</td>\n",
       "      <td>17.4</td>\n",
       "      <td>186.0</td>\n",
       "      <td>3800.0</td>\n",
       "      <td>Female</td>\n",
       "    </tr>\n",
       "    <tr>\n",
       "      <th>2</th>\n",
       "      <td>Adelie</td>\n",
       "      <td>Torgersen</td>\n",
       "      <td>40.3</td>\n",
       "      <td>18.0</td>\n",
       "      <td>195.0</td>\n",
       "      <td>3250.0</td>\n",
       "      <td>Female</td>\n",
       "    </tr>\n",
       "    <tr>\n",
       "      <th>4</th>\n",
       "      <td>Adelie</td>\n",
       "      <td>Torgersen</td>\n",
       "      <td>36.7</td>\n",
       "      <td>19.3</td>\n",
       "      <td>193.0</td>\n",
       "      <td>3450.0</td>\n",
       "      <td>Female</td>\n",
       "    </tr>\n",
       "    <tr>\n",
       "      <th>5</th>\n",
       "      <td>Adelie</td>\n",
       "      <td>Torgersen</td>\n",
       "      <td>39.3</td>\n",
       "      <td>20.6</td>\n",
       "      <td>190.0</td>\n",
       "      <td>3650.0</td>\n",
       "      <td>Male</td>\n",
       "    </tr>\n",
       "  </tbody>\n",
       "</table>\n",
       "</div>"
      ],
      "text/plain": [
       "  species     island  bill_length_mm  bill_depth_mm  flipper_length_mm  \\\n",
       "0  Adelie  Torgersen            39.1           18.7              181.0   \n",
       "1  Adelie  Torgersen            39.5           17.4              186.0   \n",
       "2  Adelie  Torgersen            40.3           18.0              195.0   \n",
       "4  Adelie  Torgersen            36.7           19.3              193.0   \n",
       "5  Adelie  Torgersen            39.3           20.6              190.0   \n",
       "\n",
       "   body_mass_g     sex  \n",
       "0       3750.0    Male  \n",
       "1       3800.0  Female  \n",
       "2       3250.0  Female  \n",
       "4       3450.0  Female  \n",
       "5       3650.0    Male  "
      ]
     },
     "execution_count": 3,
     "metadata": {},
     "output_type": "execute_result"
    }
   ],
   "source": [
    "import seaborn as sns\n",
    "import pandas as pd\n",
    "\n",
    "penguins = sns.load_dataset('penguins').dropna()\n",
    "penguins.head()"
   ]
  },
  {
   "cell_type": "code",
   "execution_count": 7,
   "id": "0d9c8824-6927-41ec-8e23-eb2aedc5c781",
   "metadata": {},
   "outputs": [
    {
     "data": {
      "text/html": [
       "<div>\n",
       "<style scoped>\n",
       "    .dataframe tbody tr th:only-of-type {\n",
       "        vertical-align: middle;\n",
       "    }\n",
       "\n",
       "    .dataframe tbody tr th {\n",
       "        vertical-align: top;\n",
       "    }\n",
       "\n",
       "    .dataframe thead th {\n",
       "        text-align: right;\n",
       "    }\n",
       "</style>\n",
       "<table border=\"1\" class=\"dataframe\">\n",
       "  <thead>\n",
       "    <tr style=\"text-align: right;\">\n",
       "      <th>species</th>\n",
       "      <th>Adelie</th>\n",
       "      <th>Chinstrap</th>\n",
       "      <th>Gentoo</th>\n",
       "    </tr>\n",
       "    <tr>\n",
       "      <th>sex</th>\n",
       "      <th></th>\n",
       "      <th></th>\n",
       "      <th></th>\n",
       "    </tr>\n",
       "  </thead>\n",
       "  <tbody>\n",
       "    <tr>\n",
       "      <th>Female</th>\n",
       "      <td>73</td>\n",
       "      <td>34</td>\n",
       "      <td>58</td>\n",
       "    </tr>\n",
       "    <tr>\n",
       "      <th>Male</th>\n",
       "      <td>73</td>\n",
       "      <td>34</td>\n",
       "      <td>61</td>\n",
       "    </tr>\n",
       "  </tbody>\n",
       "</table>\n",
       "</div>"
      ],
      "text/plain": [
       "species  Adelie  Chinstrap  Gentoo\n",
       "sex                               \n",
       "Female       73         34      58\n",
       "Male         73         34      61"
      ]
     },
     "execution_count": 7,
     "metadata": {},
     "output_type": "execute_result"
    }
   ],
   "source": [
    "def CreateContingencyTable(data, col1, col2) :\n",
    "    return data.groupby([col1, col2]).size().unstack(col1, fill_value = 0)\n",
    "\n",
    "penguinsContingencyTable = CreateContingencyTable(penguins, 'species', 'sex')\n",
    "penguinsContingencyTable"
   ]
  },
  {
   "cell_type": "markdown",
   "id": "e441f756-71e9-4c32-aa93-d39b864d639e",
   "metadata": {},
   "source": [
    "It seems like the gender distribution between penguin species is mostly 50/50, so that would be almost a 1:1 ratio for all species. Let's barplot!"
   ]
  },
  {
   "cell_type": "code",
   "execution_count": 5,
   "id": "7bb8890b-3e00-469a-9b32-031511786a82",
   "metadata": {},
   "outputs": [
    {
     "data": {
      "text/plain": [
       "<Axes: xlabel='sex'>"
      ]
     },
     "execution_count": 5,
     "metadata": {},
     "output_type": "execute_result"
    },
    {
     "data": {
      "image/png": "[encoded data removed]",
      "text/plain": [
       "<Figure size 640x480 with 1 Axes>"
      ]
     },
     "metadata": {},
     "output_type": "display_data"
    }
   ],
   "source": [
    "penguinsContingencyTable.plot(kind = 'bar')"
   ]
  },
  {
   "cell_type": "markdown",
   "id": "63f268b7-3b41-432b-b5ae-6714fccede50",
   "metadata": {},
   "source": [
    "Yep, looks about right. Let's do a chi-squared test now."
   ]
  },
  {
   "cell_type": "code",
   "execution_count": 15,
   "id": "2767b486-43ac-43a2-8582-8a8b53c72ff8",
   "metadata": {},
   "outputs": [
    {
     "name": "stdout",
     "output_type": "stream",
     "text": [
      "Chi2ContingencyResult(statistic=0.04860717014078319, pvalue=0.9759893689765846, dof=2, expected_freq=array([[72.34234234, 33.69369369, 58.96396396],\n",
      "       [73.65765766, 34.30630631, 60.03603604]]))\n",
      "The odds of a correlation between species and sex is 2.4010631023415385% (Based on a p value of 0.9759893689765846). \n",
      "This percentage needs to be at least 95% for a significant correlation.\n"
     ]
    }
   ],
   "source": [
    "from scipy.stats import chi2_contingency\n",
    "\n",
    "def CheckCatColsCorrelation(data, col1, col2) :\n",
    "    contingencyTable = CreateContingencyTable(data, col1, col2)\n",
    "    chi2 = chi2_contingency(contingencyTable)\n",
    "    print(chi2)\n",
    "    p = chi2[1]\n",
    "    oddsOfCorrelation = 1 - p\n",
    "    print(f\"The odds of a correlation between {col1} and {col2} is {oddsOfCorrelation * 100}% (Based on a p value of {p}). \\nThis percentage needs to be at least 95% for a significant correlation.\")\n",
    "\n",
    "CheckCatColsCorrelation(penguins, 'species', 'sex')"
   ]
  },
  {
   "cell_type": "markdown",
   "id": "ac0a87e3-e250-4134-a7d5-f8221a7791b2",
   "metadata": {},
   "source": [
    "To conclude, a chi-squared test was performed to assess the relationship between species and sex. The resulting p-value was approximately 0.97. Since this is higher than the significance level of 0.05, we fail to reject the null hypothesis.\n",
    "Therefore, we conclude that there is no relationship between the variables. In other words, the distribution of gender is similar across all species and any differences are likely due to random chance."
   ]
  },
  {
   "cell_type": "code",
   "execution_count": null,
   "id": "b8302c2c-595a-48f8-9b51-8b28555c566b",
   "metadata": {},
   "outputs": [],
   "source": []
  }
 ],
 "metadata": {
  "kernelspec": {
   "display_name": "Python 3 (ipykernel)",
   "language": "python",
   "name": "python3"
  },
  "language_info": {
   "codemirror_mode": {
    "name": "ipython",
    "version": 3
   },
   "file_extension": ".py",
   "mimetype": "text/x-python",
   "name": "python",
   "nbconvert_exporter": "python",
   "pygments_lexer": "ipython3",
   "version": "3.12.7"
  }
 },
 "nbformat": 4,
 "nbformat_minor": 5
}
