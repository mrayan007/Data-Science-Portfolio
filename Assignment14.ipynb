{
 "cells": [
  {
   "cell_type": "markdown",
   "id": "e4665ad5-d038-412d-8b5e-d5a8466bdcda",
   "metadata": {},
   "source": [
    "# Assignment 14\n",
    "\n",
    "For this assignment, I have to perform a bivariate analysis on at least 1 combination of 2 columns with categorical data in my \"Heart failure prediction\" dataset."
   ]
  },
  {
   "cell_type": "code",
   "execution_count": 3,
   "id": "d84b6b76-443f-40ac-bffb-dba31afe934d",
   "metadata": {},
   "outputs": [
    {
     "data": {
      "text/html": [
       "<div>\n",
       "<style scoped>\n",
       "    .dataframe tbody tr th:only-of-type {\n",
       "        vertical-align: middle;\n",
       "    }\n",
       "\n",
       "    .dataframe tbody tr th {\n",
       "        vertical-align: top;\n",
       "    }\n",
       "\n",
       "    .dataframe thead th {\n",
       "        text-align: right;\n",
       "    }\n",
       "</style>\n",
       "<table border=\"1\" class=\"dataframe\">\n",
       "  <thead>\n",
       "    <tr style=\"text-align: right;\">\n",
       "      <th></th>\n",
       "      <th>Age</th>\n",
       "      <th>Sex</th>\n",
       "      <th>ChestPainType</th>\n",
       "      <th>RestingBP</th>\n",
       "      <th>Cholesterol</th>\n",
       "      <th>FastingBS</th>\n",
       "      <th>RestingECG</th>\n",
       "      <th>MaxHR</th>\n",
       "      <th>ExerciseAngina</th>\n",
       "      <th>Oldpeak</th>\n",
       "      <th>ST_Slope</th>\n",
       "      <th>HeartDisease</th>\n",
       "    </tr>\n",
       "  </thead>\n",
       "  <tbody>\n",
       "    <tr>\n",
       "      <th>0</th>\n",
       "      <td>40</td>\n",
       "      <td>M</td>\n",
       "      <td>ATA</td>\n",
       "      <td>140</td>\n",
       "      <td>289</td>\n",
       "      <td>0</td>\n",
       "      <td>Normal</td>\n",
       "      <td>172</td>\n",
       "      <td>N</td>\n",
       "      <td>0.0</td>\n",
       "      <td>Up</td>\n",
       "      <td>No</td>\n",
       "    </tr>\n",
       "    <tr>\n",
       "      <th>1</th>\n",
       "      <td>49</td>\n",
       "      <td>F</td>\n",
       "      <td>NAP</td>\n",
       "      <td>160</td>\n",
       "      <td>180</td>\n",
       "      <td>0</td>\n",
       "      <td>Normal</td>\n",
       "      <td>156</td>\n",
       "      <td>N</td>\n",
       "      <td>1.0</td>\n",
       "      <td>Flat</td>\n",
       "      <td>Yes</td>\n",
       "    </tr>\n",
       "    <tr>\n",
       "      <th>2</th>\n",
       "      <td>37</td>\n",
       "      <td>M</td>\n",
       "      <td>ATA</td>\n",
       "      <td>130</td>\n",
       "      <td>283</td>\n",
       "      <td>0</td>\n",
       "      <td>ST</td>\n",
       "      <td>98</td>\n",
       "      <td>N</td>\n",
       "      <td>0.0</td>\n",
       "      <td>Up</td>\n",
       "      <td>No</td>\n",
       "    </tr>\n",
       "    <tr>\n",
       "      <th>3</th>\n",
       "      <td>48</td>\n",
       "      <td>F</td>\n",
       "      <td>ASY</td>\n",
       "      <td>138</td>\n",
       "      <td>214</td>\n",
       "      <td>0</td>\n",
       "      <td>Normal</td>\n",
       "      <td>108</td>\n",
       "      <td>Y</td>\n",
       "      <td>1.5</td>\n",
       "      <td>Flat</td>\n",
       "      <td>Yes</td>\n",
       "    </tr>\n",
       "    <tr>\n",
       "      <th>4</th>\n",
       "      <td>54</td>\n",
       "      <td>M</td>\n",
       "      <td>NAP</td>\n",
       "      <td>150</td>\n",
       "      <td>195</td>\n",
       "      <td>0</td>\n",
       "      <td>Normal</td>\n",
       "      <td>122</td>\n",
       "      <td>N</td>\n",
       "      <td>0.0</td>\n",
       "      <td>Up</td>\n",
       "      <td>No</td>\n",
       "    </tr>\n",
       "  </tbody>\n",
       "</table>\n",
       "</div>"
      ],
      "text/plain": [
       "   Age Sex ChestPainType  RestingBP  Cholesterol  FastingBS RestingECG  MaxHR  \\\n",
       "0   40   M           ATA        140          289          0     Normal    172   \n",
       "1   49   F           NAP        160          180          0     Normal    156   \n",
       "2   37   M           ATA        130          283          0         ST     98   \n",
       "3   48   F           ASY        138          214          0     Normal    108   \n",
       "4   54   M           NAP        150          195          0     Normal    122   \n",
       "\n",
       "  ExerciseAngina  Oldpeak ST_Slope HeartDisease  \n",
       "0              N      0.0       Up           No  \n",
       "1              N      1.0     Flat          Yes  \n",
       "2              N      0.0       Up           No  \n",
       "3              Y      1.5     Flat          Yes  \n",
       "4              N      0.0       Up           No  "
      ]
     },
     "execution_count": 3,
     "metadata": {},
     "output_type": "execute_result"
    }
   ],
   "source": [
    "import pandas as pd\n",
    "\n",
    "heart = pd.read_csv('Datasets/heart.csv').dropna()\n",
    "heart['HeartDisease'] = heart['HeartDisease'].map({0: 'No', 1: 'Yes'})\n",
    "heart.head()"
   ]
  },
  {
   "cell_type": "markdown",
   "id": "1d4973c6-f370-4aba-80b3-5d5cf87728ca",
   "metadata": {},
   "source": [
    "I choose the \"HeartDisease\" and \"ChestPainType\" columns for this assignment. I'm not sure if there's going to be any correlation between the two columns since I don't know much about this field, but I think that there's going to be at least a 45% chance that they are correlated.. let's find out."
   ]
  },
  {
   "cell_type": "code",
   "execution_count": 4,
   "id": "f9ac263f-2bd3-44a7-8971-a20eee73f835",
   "metadata": {},
   "outputs": [
    {
     "data": {
      "text/html": [
       "<div>\n",
       "<style scoped>\n",
       "    .dataframe tbody tr th:only-of-type {\n",
       "        vertical-align: middle;\n",
       "    }\n",
       "\n",
       "    .dataframe tbody tr th {\n",
       "        vertical-align: top;\n",
       "    }\n",
       "\n",
       "    .dataframe thead th {\n",
       "        text-align: right;\n",
       "    }\n",
       "</style>\n",
       "<table border=\"1\" class=\"dataframe\">\n",
       "  <thead>\n",
       "    <tr style=\"text-align: right;\">\n",
       "      <th>ChestPainType</th>\n",
       "      <th>ASY</th>\n",
       "      <th>ATA</th>\n",
       "      <th>NAP</th>\n",
       "      <th>TA</th>\n",
       "    </tr>\n",
       "    <tr>\n",
       "      <th>HeartDisease</th>\n",
       "      <th></th>\n",
       "      <th></th>\n",
       "      <th></th>\n",
       "      <th></th>\n",
       "    </tr>\n",
       "  </thead>\n",
       "  <tbody>\n",
       "    <tr>\n",
       "      <th>No</th>\n",
       "      <td>104</td>\n",
       "      <td>149</td>\n",
       "      <td>131</td>\n",
       "      <td>26</td>\n",
       "    </tr>\n",
       "    <tr>\n",
       "      <th>Yes</th>\n",
       "      <td>392</td>\n",
       "      <td>24</td>\n",
       "      <td>72</td>\n",
       "      <td>20</td>\n",
       "    </tr>\n",
       "  </tbody>\n",
       "</table>\n",
       "</div>"
      ],
      "text/plain": [
       "ChestPainType  ASY  ATA  NAP  TA\n",
       "HeartDisease                    \n",
       "No             104  149  131  26\n",
       "Yes            392   24   72  20"
      ]
     },
     "execution_count": 4,
     "metadata": {},
     "output_type": "execute_result"
    }
   ],
   "source": [
    "def ContingencyTable(data, col1, col2) :\n",
    "    return data.groupby([col1, col2]).size().unstack(col1, fill_value = 0)\n",
    "\n",
    "heartContingencyTable = ContingencyTable(heart, 'ChestPainType', 'HeartDisease')\n",
    "heartContingencyTable"
   ]
  },
  {
   "cell_type": "markdown",
   "id": "c993cd62-902c-4d8a-84f5-6a2149a50735",
   "metadata": {},
   "source": [
    "I think it's very clear that most people who have heart failure suffer from ASY type chest pain."
   ]
  },
  {
   "cell_type": "code",
   "execution_count": 5,
   "id": "1a7cfff2-e6cb-44e0-86a1-1e99d245c21b",
   "metadata": {
    "scrolled": true
   },
   "outputs": [
    {
     "data": {
      "text/plain": [
       "<Axes: xlabel='HeartDisease'>"
      ]
     },
     "execution_count": 5,
     "metadata": {},
     "output_type": "execute_result"
    },
    {
     "data": {
      "image/png": "[encoded data removed]",
      "text/plain": [
       "<Figure size 640x480 with 1 Axes>"
      ]
     },
     "metadata": {},
     "output_type": "display_data"
    }
   ],
   "source": [
    "heartContingencyTable.plot(kind = 'bar')"
   ]
  },
  {
   "cell_type": "markdown",
   "id": "735efa11-2ca2-4b77-8f9c-f7a63a4d984c",
   "metadata": {},
   "source": [
    "It's much clearer now.. kill confirmed. Let's continue to the chi-squared test."
   ]
  },
  {
   "cell_type": "code",
   "execution_count": 6,
   "id": "09915003-743a-4ce3-a377-b11e22289e55",
   "metadata": {},
   "outputs": [
    {
     "name": "stdout",
     "output_type": "stream",
     "text": [
      "Chi2ContingencyResult(statistic=268.06723902181767, pvalue=8.08372842808765e-58, dof=3, expected_freq=array([[221.52505447,  77.26579521,  90.66448802,  20.54466231],\n",
      "       [274.47494553,  95.73420479, 112.33551198,  25.45533769]]))\n",
      "The odds of a correlation between ChestPainType and HeartDisease is 100.0% (Based on a p-value of 8.08372842808765e-58).\n",
      "This percentage has to be at least 95% for a significant correlation.\n"
     ]
    }
   ],
   "source": [
    "from scipy.stats import chi2_contingency\n",
    "\n",
    "def CheckCatColsCorrelation(data, col1, col2) :\n",
    "    contingencyTable = ContingencyTable(data, col1, col2)\n",
    "    chi2 = chi2_contingency(contingencyTable)\n",
    "    print(chi2)\n",
    "    p = chi2[1]\n",
    "    oddsOfCorrelation = 1 - p\n",
    "    print(f\"The odds of a correlation between {col1} and {col2} is {oddsOfCorrelation * 100}% (Based on a p-value of {p}).\")\n",
    "    print(\"This percentage has to be at least 95% for a significant correlation.\")\n",
    "\n",
    "CheckCatColsCorrelation(heart, 'ChestPainType', 'HeartDisease')"
   ]
  },
  {
   "cell_type": "markdown",
   "id": "34c6e170-d16a-4832-8101-1e01e99cc540",
   "metadata": {},
   "source": [
    "A chi-squared test was performed to assess the relationship between chest pain type and heart failure. I don't know what exactly the p-value here equals to, but since the chance of correlation is 100%, we can reject the null hypothesis. Therefore, we conclude that there is a significant relationship between the variables. In other words, the chest pain type almost always gives away wether the patient suffers from heart disease or not."
   ]
  }
 ],
 "metadata": {
  "kernelspec": {
   "display_name": "Python 3 (ipykernel)",
   "language": "python",
   "name": "python3"
  },
  "language_info": {
   "codemirror_mode": {
    "name": "ipython",
    "version": 3
   },
   "file_extension": ".py",
   "mimetype": "text/x-python",
   "name": "python",
   "nbconvert_exporter": "python",
   "pygments_lexer": "ipython3",
   "version": "3.12.7"
  }
 },
 "nbformat": 4,
 "nbformat_minor": 5
}
