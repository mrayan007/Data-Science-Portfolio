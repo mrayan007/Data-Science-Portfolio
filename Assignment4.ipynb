{
 "cells": [
  {
   "cell_type": "markdown",
   "id": "fb2ab4af-5713-43a8-8a20-fea3f81afa71",
   "metadata": {},
   "source": [
    "# Assignment 4"
   ]
  },
  {
   "cell_type": "markdown",
   "id": "01855ab6-6d1a-4d0b-891b-2e110101a681",
   "metadata": {},
   "source": [
    "I chose this \"Top 5 leagues football players\" dataset that I found online."
   ]
  },
  {
   "cell_type": "code",
   "execution_count": 3,
   "id": "ee45db4f-500e-4039-8416-e877cdc2233e",
   "metadata": {},
   "outputs": [
    {
     "data": {
      "text/html": [
       "<div>\n",
       "<style scoped>\n",
       "    .dataframe tbody tr th:only-of-type {\n",
       "        vertical-align: middle;\n",
       "    }\n",
       "\n",
       "    .dataframe tbody tr th {\n",
       "        vertical-align: top;\n",
       "    }\n",
       "\n",
       "    .dataframe thead th {\n",
       "        text-align: right;\n",
       "    }\n",
       "</style>\n",
       "<table border=\"1\" class=\"dataframe\">\n",
       "  <thead>\n",
       "    <tr style=\"text-align: right;\">\n",
       "      <th></th>\n",
       "      <th>Unnamed: 0</th>\n",
       "      <th>name</th>\n",
       "      <th>full_name</th>\n",
       "      <th>age</th>\n",
       "      <th>height</th>\n",
       "      <th>nationality</th>\n",
       "      <th>place_of_birth</th>\n",
       "      <th>price</th>\n",
       "      <th>max_price</th>\n",
       "      <th>position</th>\n",
       "      <th>shirt_nr</th>\n",
       "      <th>foot</th>\n",
       "      <th>club</th>\n",
       "      <th>contract_expires</th>\n",
       "      <th>joined_club</th>\n",
       "      <th>player_agent</th>\n",
       "      <th>outfitter</th>\n",
       "      <th>league</th>\n",
       "    </tr>\n",
       "  </thead>\n",
       "  <tbody>\n",
       "    <tr>\n",
       "      <th>0</th>\n",
       "      <td>0</td>\n",
       "      <td>Ederson</td>\n",
       "      <td>NaN</td>\n",
       "      <td>29</td>\n",
       "      <td>1.88</td>\n",
       "      <td>Brazil  Portugal</td>\n",
       "      <td>Osasco (SP)</td>\n",
       "      <td>45.00</td>\n",
       "      <td>70.0</td>\n",
       "      <td>Goalkeeper</td>\n",
       "      <td>31</td>\n",
       "      <td>left</td>\n",
       "      <td>Man City</td>\n",
       "      <td>2026-06-30</td>\n",
       "      <td>2017-07-01</td>\n",
       "      <td>Gestifute</td>\n",
       "      <td>Puma</td>\n",
       "      <td>EPL</td>\n",
       "    </tr>\n",
       "    <tr>\n",
       "      <th>1</th>\n",
       "      <td>1</td>\n",
       "      <td>Stefan Ortega</td>\n",
       "      <td>Stefan Ortega Moreno</td>\n",
       "      <td>30</td>\n",
       "      <td>1.85</td>\n",
       "      <td>Germany  Spain</td>\n",
       "      <td>Hofgeismar</td>\n",
       "      <td>6.00</td>\n",
       "      <td>6.0</td>\n",
       "      <td>Goalkeeper</td>\n",
       "      <td>18</td>\n",
       "      <td>right</td>\n",
       "      <td>Man City</td>\n",
       "      <td>2025-06-30</td>\n",
       "      <td>2022-07-01</td>\n",
       "      <td>neblung ...</td>\n",
       "      <td>NaN</td>\n",
       "      <td>EPL</td>\n",
       "    </tr>\n",
       "    <tr>\n",
       "      <th>2</th>\n",
       "      <td>2</td>\n",
       "      <td>Scott Carson</td>\n",
       "      <td>Scott Paul Carson</td>\n",
       "      <td>37</td>\n",
       "      <td>1.88</td>\n",
       "      <td>England</td>\n",
       "      <td>Whitehaven</td>\n",
       "      <td>0.25</td>\n",
       "      <td>6.0</td>\n",
       "      <td>Goalkeeper</td>\n",
       "      <td>33</td>\n",
       "      <td>right</td>\n",
       "      <td>Man City</td>\n",
       "      <td>2023-06-30</td>\n",
       "      <td>2021-07-20</td>\n",
       "      <td>Wasserman</td>\n",
       "      <td>Puma</td>\n",
       "      <td>EPL</td>\n",
       "    </tr>\n",
       "    <tr>\n",
       "      <th>3</th>\n",
       "      <td>3</td>\n",
       "      <td>Rúben Dias</td>\n",
       "      <td>Rúben Santos Gato Alves Dias</td>\n",
       "      <td>26</td>\n",
       "      <td>1.87</td>\n",
       "      <td>Portugal</td>\n",
       "      <td>Amadora</td>\n",
       "      <td>75.00</td>\n",
       "      <td>75.0</td>\n",
       "      <td>Defender - Centre-Back</td>\n",
       "      <td>3</td>\n",
       "      <td>right</td>\n",
       "      <td>Man City</td>\n",
       "      <td>2027-06-30</td>\n",
       "      <td>2020-09-29</td>\n",
       "      <td>Gestifute</td>\n",
       "      <td>Nike</td>\n",
       "      <td>EPL</td>\n",
       "    </tr>\n",
       "    <tr>\n",
       "      <th>4</th>\n",
       "      <td>4</td>\n",
       "      <td>Nathan Aké</td>\n",
       "      <td>Nathan Benjamin Aké</td>\n",
       "      <td>28</td>\n",
       "      <td>1.80</td>\n",
       "      <td>Netherlands  Cote d'Ivoire</td>\n",
       "      <td>Den Haag</td>\n",
       "      <td>35.00</td>\n",
       "      <td>40.0</td>\n",
       "      <td>Defender - Centre-Back</td>\n",
       "      <td>6</td>\n",
       "      <td>left</td>\n",
       "      <td>Man City</td>\n",
       "      <td>2025-06-30</td>\n",
       "      <td>2020-08-05</td>\n",
       "      <td>Wasserman</td>\n",
       "      <td>Nike</td>\n",
       "      <td>EPL</td>\n",
       "    </tr>\n",
       "  </tbody>\n",
       "</table>\n",
       "</div>"
      ],
      "text/plain": [
       "   Unnamed: 0           name                     full_name  age  height  \\\n",
       "0           0        Ederson                           NaN   29    1.88   \n",
       "1           1  Stefan Ortega          Stefan Ortega Moreno   30    1.85   \n",
       "2           2   Scott Carson             Scott Paul Carson   37    1.88   \n",
       "3           3     Rúben Dias  Rúben Santos Gato Alves Dias   26    1.87   \n",
       "4           4     Nathan Aké           Nathan Benjamin Aké   28    1.80   \n",
       "\n",
       "                  nationality place_of_birth  price  max_price  \\\n",
       "0            Brazil  Portugal    Osasco (SP)  45.00       70.0   \n",
       "1              Germany  Spain     Hofgeismar   6.00        6.0   \n",
       "2                     England     Whitehaven   0.25        6.0   \n",
       "3                    Portugal        Amadora  75.00       75.0   \n",
       "4  Netherlands  Cote d'Ivoire       Den Haag  35.00       40.0   \n",
       "\n",
       "                 position  shirt_nr   foot      club contract_expires  \\\n",
       "0              Goalkeeper        31   left  Man City       2026-06-30   \n",
       "1              Goalkeeper        18  right  Man City       2025-06-30   \n",
       "2              Goalkeeper        33  right  Man City       2023-06-30   \n",
       "3  Defender - Centre-Back         3  right  Man City       2027-06-30   \n",
       "4  Defender - Centre-Back         6   left  Man City       2025-06-30   \n",
       "\n",
       "  joined_club player_agent outfitter league  \n",
       "0  2017-07-01    Gestifute      Puma    EPL  \n",
       "1  2022-07-01  neblung ...       NaN    EPL  \n",
       "2  2021-07-20    Wasserman      Puma    EPL  \n",
       "3  2020-09-29    Gestifute      Nike    EPL  \n",
       "4  2020-08-05    Wasserman      Nike    EPL  "
      ]
     },
     "execution_count": 3,
     "metadata": {},
     "output_type": "execute_result"
    }
   ],
   "source": [
    "import pandas as pd\n",
    "import seaborn as sns\n",
    "import os\n",
    "\n",
    "footballPlayers = pd.read_csv(\"top5_leagues_player.csv\")\n",
    "footballPlayers.head()"
   ]
  },
  {
   "cell_type": "markdown",
   "id": "0dacc48b-8633-42c6-85b3-892c5a4eca33",
   "metadata": {},
   "source": [
    "The dataset contains rows and columns, it is therefore in a tabular format."
   ]
  },
  {
   "cell_type": "code",
   "execution_count": 4,
   "id": "43f10466-2139-4b74-9d7d-0e4533041e21",
   "metadata": {},
   "outputs": [
    {
     "name": "stdout",
     "output_type": "stream",
     "text": [
      "2612\n"
     ]
    }
   ],
   "source": [
    "print(len(footballPlayers))"
   ]
  },
  {
   "cell_type": "markdown",
   "id": "bbf9070d-aa56-427b-9233-62e6d6586b60",
   "metadata": {},
   "source": [
    "The dataset contains at least a 100 rows."
   ]
  },
  {
   "cell_type": "code",
   "execution_count": 5,
   "id": "fef4196d-5ae5-476c-ae17-971ea35bed0e",
   "metadata": {},
   "outputs": [
    {
     "name": "stdout",
     "output_type": "stream",
     "text": [
      "The dataset has 12 columns with categorical data.\n",
      "The dataset has 6 columns with numerical data.\n"
     ]
    }
   ],
   "source": [
    "categoricalData = footballPlayers.select_dtypes(include = 'object').columns.tolist()\n",
    "print(f\"The dataset has {len(categoricalData)} columns with categorical data.\")\n",
    "numericalData = footballPlayers.select_dtypes(include = 'number').columns.tolist()\n",
    "print(f\"The dataset has {len(numericalData)} columns with numerical data.\")"
   ]
  },
  {
   "cell_type": "markdown",
   "id": "9ed6679a-1d5a-48ed-9dad-84bb75d55708",
   "metadata": {},
   "source": [
    "The dataset contains at least 2 columns with categorical data and at least 2 columns with numerical data."
   ]
  },
  {
   "cell_type": "code",
   "execution_count": 6,
   "id": "88503616-9363-4594-a317-40a9af1f5c46",
   "metadata": {},
   "outputs": [
    {
     "name": "stdout",
     "output_type": "stream",
     "text": [
      "The file is 0.40 MB large.\n"
     ]
    }
   ],
   "source": [
    "datasetSize = os.path.getsize(\"top5_leagues_player.csv\")\n",
    "dataToMB = datasetSize / (1024 ** 2)\n",
    "print(f\"The file is {dataToMB:.2f} MB large.\")"
   ]
  },
  {
   "cell_type": "markdown",
   "id": "dde71e90-dc6d-40ad-94f9-26c72251ccfc",
   "metadata": {},
   "source": [
    "The dataset file size is less than 200MB."
   ]
  }
 ],
 "metadata": {
  "kernelspec": {
   "display_name": "Python 3 (ipykernel)",
   "language": "python",
   "name": "python3"
  },
  "language_info": {
   "codemirror_mode": {
    "name": "ipython",
    "version": 3
   },
   "file_extension": ".py",
   "mimetype": "text/x-python",
   "name": "python",
   "nbconvert_exporter": "python",
   "pygments_lexer": "ipython3",
   "version": "3.12.7"
  }
 },
 "nbformat": 4,
 "nbformat_minor": 5
}
