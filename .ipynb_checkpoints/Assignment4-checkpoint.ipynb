{
 "cells": [
  {
   "cell_type": "markdown",
   "id": "fb2ab4af-5713-43a8-8a20-fea3f81afa71",
   "metadata": {},
   "source": [
    "#### I chose this Spotify Top 1000 Tracks dataset that I found online."
   ]
  },
  {
   "cell_type": "code",
   "execution_count": 8,
   "id": "ee45db4f-500e-4039-8416-e877cdc2233e",
   "metadata": {},
   "outputs": [
    {
     "data": {
      "text/html": [
       "<div>\n",
       "<style scoped>\n",
       "    .dataframe tbody tr th:only-of-type {\n",
       "        vertical-align: middle;\n",
       "    }\n",
       "\n",
       "    .dataframe tbody tr th {\n",
       "        vertical-align: top;\n",
       "    }\n",
       "\n",
       "    .dataframe thead th {\n",
       "        text-align: right;\n",
       "    }\n",
       "</style>\n",
       "<table border=\"1\" class=\"dataframe\">\n",
       "  <thead>\n",
       "    <tr style=\"text-align: right;\">\n",
       "      <th></th>\n",
       "      <th>track_name</th>\n",
       "      <th>artist</th>\n",
       "      <th>album</th>\n",
       "      <th>release_date</th>\n",
       "      <th>popularity</th>\n",
       "      <th>spotify_url</th>\n",
       "      <th>id</th>\n",
       "      <th>duration_min</th>\n",
       "    </tr>\n",
       "  </thead>\n",
       "  <tbody>\n",
       "    <tr>\n",
       "      <th>0</th>\n",
       "      <td>All The Stars (with SZA)</td>\n",
       "      <td>Kendrick Lamar</td>\n",
       "      <td>Black Panther The Album Music From And Inspire...</td>\n",
       "      <td>2018-02-09</td>\n",
       "      <td>95</td>\n",
       "      <td>https://open.spotify.com/track/3GCdLUSnKSMJhs4...</td>\n",
       "      <td>3GCdLUSnKSMJhs4Tj6CV3s</td>\n",
       "      <td>3.869767</td>\n",
       "    </tr>\n",
       "    <tr>\n",
       "      <th>1</th>\n",
       "      <td>Starboy</td>\n",
       "      <td>The Weeknd</td>\n",
       "      <td>Starboy</td>\n",
       "      <td>2016-11-25</td>\n",
       "      <td>90</td>\n",
       "      <td>https://open.spotify.com/track/7MXVkk9YMctZqd1...</td>\n",
       "      <td>7MXVkk9YMctZqd1Srtv4MB</td>\n",
       "      <td>3.840883</td>\n",
       "    </tr>\n",
       "    <tr>\n",
       "      <th>2</th>\n",
       "      <td>Señorita</td>\n",
       "      <td>Shawn Mendes</td>\n",
       "      <td>Señorita</td>\n",
       "      <td>2019-06-21</td>\n",
       "      <td>80</td>\n",
       "      <td>https://open.spotify.com/track/0TK2YIli7K1leLo...</td>\n",
       "      <td>0TK2YIli7K1leLovkQiNik</td>\n",
       "      <td>3.182667</td>\n",
       "    </tr>\n",
       "    <tr>\n",
       "      <th>3</th>\n",
       "      <td>Heat Waves</td>\n",
       "      <td>Glass Animals</td>\n",
       "      <td>Dreamland</td>\n",
       "      <td>2020-08-07</td>\n",
       "      <td>87</td>\n",
       "      <td>https://open.spotify.com/track/3USxtqRwSYz57Ew...</td>\n",
       "      <td>3USxtqRwSYz57Ewm6wWRMp</td>\n",
       "      <td>3.980083</td>\n",
       "    </tr>\n",
       "    <tr>\n",
       "      <th>4</th>\n",
       "      <td>Let Me Love You</td>\n",
       "      <td>DJ Snake</td>\n",
       "      <td>Encore</td>\n",
       "      <td>2016-08-05</td>\n",
       "      <td>87</td>\n",
       "      <td>https://open.spotify.com/track/0lYBSQXN6rCTvUZ...</td>\n",
       "      <td>0lYBSQXN6rCTvUZvg9S0lU</td>\n",
       "      <td>3.432433</td>\n",
       "    </tr>\n",
       "  </tbody>\n",
       "</table>\n",
       "</div>"
      ],
      "text/plain": [
       "                 track_name          artist  \\\n",
       "0  All The Stars (with SZA)  Kendrick Lamar   \n",
       "1                   Starboy      The Weeknd   \n",
       "2                  Señorita    Shawn Mendes   \n",
       "3                Heat Waves   Glass Animals   \n",
       "4           Let Me Love You        DJ Snake   \n",
       "\n",
       "                                               album release_date  popularity  \\\n",
       "0  Black Panther The Album Music From And Inspire...   2018-02-09          95   \n",
       "1                                            Starboy   2016-11-25          90   \n",
       "2                                           Señorita   2019-06-21          80   \n",
       "3                                          Dreamland   2020-08-07          87   \n",
       "4                                             Encore   2016-08-05          87   \n",
       "\n",
       "                                         spotify_url                      id  \\\n",
       "0  https://open.spotify.com/track/3GCdLUSnKSMJhs4...  3GCdLUSnKSMJhs4Tj6CV3s   \n",
       "1  https://open.spotify.com/track/7MXVkk9YMctZqd1...  7MXVkk9YMctZqd1Srtv4MB   \n",
       "2  https://open.spotify.com/track/0TK2YIli7K1leLo...  0TK2YIli7K1leLovkQiNik   \n",
       "3  https://open.spotify.com/track/3USxtqRwSYz57Ew...  3USxtqRwSYz57Ewm6wWRMp   \n",
       "4  https://open.spotify.com/track/0lYBSQXN6rCTvUZ...  0lYBSQXN6rCTvUZvg9S0lU   \n",
       "\n",
       "   duration_min  \n",
       "0      3.869767  \n",
       "1      3.840883  \n",
       "2      3.182667  \n",
       "3      3.980083  \n",
       "4      3.432433  "
      ]
     },
     "execution_count": 8,
     "metadata": {},
     "output_type": "execute_result"
    }
   ],
   "source": [
    "import pandas as pd\n",
    "import seaborn as sns\n",
    "import os\n",
    "\n",
    "spotify = pd.read_csv(\"spotify_top_1000_tracks.csv\")\n",
    "spotify.head()"
   ]
  },
  {
   "cell_type": "markdown",
   "id": "0dacc48b-8633-42c6-85b3-892c5a4eca33",
   "metadata": {},
   "source": [
    "The dataset contains rows and columns, it is therefore in a tabular format."
   ]
  },
  {
   "cell_type": "code",
   "execution_count": 5,
   "id": "43f10466-2139-4b74-9d7d-0e4533041e21",
   "metadata": {},
   "outputs": [
    {
     "name": "stdout",
     "output_type": "stream",
     "text": [
      "1000\n"
     ]
    }
   ],
   "source": [
    "print(len(spotify))"
   ]
  },
  {
   "cell_type": "markdown",
   "id": "bbf9070d-aa56-427b-9233-62e6d6586b60",
   "metadata": {},
   "source": [
    "The dataset contains at least a 100 rows."
   ]
  },
  {
   "cell_type": "code",
   "execution_count": 7,
   "id": "fef4196d-5ae5-476c-ae17-971ea35bed0e",
   "metadata": {},
   "outputs": [
    {
     "name": "stdout",
     "output_type": "stream",
     "text": [
      "The dataset has 6 columns with categorical data.\n",
      "The dataset has 2 columns with numerical data.\n"
     ]
    }
   ],
   "source": [
    "categoricalData = spotify.select_dtypes(include = 'object').columns.tolist()\n",
    "print(f\"The dataset has {len(categoricalData)} columns with categorical data.\")\n",
    "numericalData = spotify.select_dtypes(include = 'number').columns.tolist()\n",
    "print(f\"The dataset has {len(numericalData)} columns with numerical data.\")"
   ]
  },
  {
   "cell_type": "markdown",
   "id": "9ed6679a-1d5a-48ed-9dad-84bb75d55708",
   "metadata": {},
   "source": [
    "The dataset contains at least 2 columns with categorical data and at least 2 columns with numerical data."
   ]
  },
  {
   "cell_type": "code",
   "execution_count": 10,
   "id": "88503616-9363-4594-a317-40a9af1f5c46",
   "metadata": {},
   "outputs": [
    {
     "name": "stdout",
     "output_type": "stream",
     "text": [
      "The file is 0.14 MB large.\n"
     ]
    }
   ],
   "source": [
    "datasetSize = os.path.getsize(\"spotify_top_1000_tracks.csv\")\n",
    "print(f\"The file is {datasetSize / (1024 ** 2):.2f} MB large.\")"
   ]
  },
  {
   "cell_type": "markdown",
   "id": "dde71e90-dc6d-40ad-94f9-26c72251ccfc",
   "metadata": {},
   "source": [
    "The dataset file size is less than 200MB."
   ]
  }
 ],
 "metadata": {
  "kernelspec": {
   "display_name": "Python 3 (ipykernel)",
   "language": "python",
   "name": "python3"
  },
  "language_info": {
   "codemirror_mode": {
    "name": "ipython",
    "version": 3
   },
   "file_extension": ".py",
   "mimetype": "text/x-python",
   "name": "python",
   "nbconvert_exporter": "python",
   "pygments_lexer": "ipython3",
   "version": "3.12.7"
  }
 },
 "nbformat": 4,
 "nbformat_minor": 5
}
