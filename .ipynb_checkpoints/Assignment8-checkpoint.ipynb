{
 "cells": [
  {
   "cell_type": "markdown",
   "id": "931c55a6-cfeb-47d3-88e2-ac21cd179a20",
   "metadata": {},
   "source": [
    "# Assignment 8"
   ]
  },
  {
   "cell_type": "code",
   "execution_count": 60,
   "id": "66dbac84-f30c-49f2-b2f5-5ca538266a43",
   "metadata": {},
   "outputs": [],
   "source": [
    "import pandas as pd\n",
    "import seaborn as sns\n",
    "\n",
    "footballPlayers = pd.read_csv(\"top5_leagues_player.csv\")"
   ]
  },
  {
   "cell_type": "markdown",
   "id": "0b00c9d9-f6e9-4fd0-a9ea-57d6e9685071",
   "metadata": {},
   "source": [
    "This is our dataset imported."
   ]
  },
  {
   "cell_type": "markdown",
   "id": "799eb8c1-0a1b-4349-95ee-5ca0ef94dbc1",
   "metadata": {},
   "source": [
    "For this assignment, I choose columns \"max_price\" and \"height\"."
   ]
  },
  {
   "cell_type": "markdown",
   "id": "e9a116e2-a867-41be-8a66-3b4e7c1d9baa",
   "metadata": {},
   "source": [
    "First, let's calculate the 90%, 95%, 99% and 99,99% confidence intervals for column \"max_price\"."
   ]
  },
  {
   "cell_type": "code",
   "execution_count": 61,
   "id": "ddb74a41-97b3-4038-af1d-b052e9eb1e45",
   "metadata": {},
   "outputs": [
    {
     "data": {
      "text/plain": [
       "(16.597271667567984, 18.01218727333762)"
      ]
     },
     "execution_count": 61,
     "metadata": {},
     "output_type": "execute_result"
    }
   ],
   "source": [
    "import scipy.stats as st\n",
    "\n",
    "maxPrice = footballPlayers['max_price'].dropna()\n",
    "\n",
    "confidence = 0.9\n",
    "st.t.interval(confidence, len(footballPlayers)-1, loc = maxPrice.mean(), scale = st.sem(maxPrice))"
   ]
  },
  {
   "cell_type": "code",
   "execution_count": 62,
   "id": "bb47861e-2d5b-4ef0-a2d6-ddf1a7852786",
   "metadata": {},
   "outputs": [
    {
     "name": "stdout",
     "output_type": "stream",
     "text": [
      "(16.461649779667592, 18.147809161238012)\n"
     ]
    }
   ],
   "source": [
    "confidence = 0.95\n",
    "maxPriceAllRows95 = st.t.interval(confidence, len(footballPlayers)-1, loc = maxPrice.mean(), scale = st.sem(maxPrice))\n",
    "print(maxPriceAllRows95)"
   ]
  },
  {
   "cell_type": "code",
   "execution_count": 63,
   "id": "c3ba7ebd-4183-4306-9da5-3f5d02ee6cb9",
   "metadata": {},
   "outputs": [
    {
     "data": {
      "text/plain": [
       "(16.196438401651502, 18.413020539254102)"
      ]
     },
     "execution_count": 63,
     "metadata": {},
     "output_type": "execute_result"
    }
   ],
   "source": [
    "confidence = 0.99\n",
    "st.t.interval(confidence, len(footballPlayers)-1, loc = maxPrice.mean(), scale = st.sem(maxPrice))"
   ]
  },
  {
   "cell_type": "code",
   "execution_count": 64,
   "id": "0469c5f4-0c1d-49b9-bdb2-b8d943805b8e",
   "metadata": {},
   "outputs": [
    {
     "data": {
      "text/plain": [
       "(15.629376712929291, 18.980082227976315)"
      ]
     },
     "execution_count": 64,
     "metadata": {},
     "output_type": "execute_result"
    }
   ],
   "source": [
    "confidence = 0.9999\n",
    "st.t.interval(confidence, len(footballPlayers)-1, loc = maxPrice.mean(), scale = st.sem(maxPrice))"
   ]
  },
  {
   "cell_type": "markdown",
   "id": "89159164-7167-4874-899d-8eb49f016827",
   "metadata": {},
   "source": [
    "Now, let's do the same thing for the \"height\" column."
   ]
  },
  {
   "cell_type": "code",
   "execution_count": 65,
   "id": "7d4f357d-c6a9-4b21-848a-8a17fb2912d7",
   "metadata": {},
   "outputs": [
    {
     "data": {
      "text/plain": [
       "(1.828722073314391, 1.8330618559435865)"
      ]
     },
     "execution_count": 65,
     "metadata": {},
     "output_type": "execute_result"
    }
   ],
   "source": [
    "height = footballPlayers['height'].dropna()\n",
    "\n",
    "confidence = 0.9\n",
    "st.t.interval(confidence, len(footballPlayers)-1, loc = height.mean(), scale = st.sem(height))"
   ]
  },
  {
   "cell_type": "code",
   "execution_count": 66,
   "id": "8224810c-44c4-4335-ae1b-4df34b244373",
   "metadata": {},
   "outputs": [
    {
     "name": "stdout",
     "output_type": "stream",
     "text": [
      "(1.8283060983185335, 1.833477830939444)\n"
     ]
    }
   ],
   "source": [
    "confidence = 0.95\n",
    "heightAllRows95 = st.t.interval(confidence, len(footballPlayers)-1, loc = height.mean(), scale = st.sem(height))\n",
    "print(heightAllRows95)"
   ]
  },
  {
   "cell_type": "code",
   "execution_count": 67,
   "id": "4f39a432-2337-4d42-bc0d-fe1b0a449cd4",
   "metadata": {},
   "outputs": [
    {
     "data": {
      "text/plain": [
       "(1.8274926506989821, 1.8342912785589953)"
      ]
     },
     "execution_count": 67,
     "metadata": {},
     "output_type": "execute_result"
    }
   ],
   "source": [
    "confidence = 0.99\n",
    "st.t.interval(confidence, len(footballPlayers)-1, loc = height.mean(), scale = st.sem(height))"
   ]
  },
  {
   "cell_type": "code",
   "execution_count": 68,
   "id": "0ddba5c0-d016-48fd-afe1-36b3cf05ac1d",
   "metadata": {},
   "outputs": [
    {
     "data": {
      "text/plain": [
       "(1.8274926506989821, 1.8342912785589953)"
      ]
     },
     "execution_count": 68,
     "metadata": {},
     "output_type": "execute_result"
    }
   ],
   "source": [
    "confidence = 0.99\n",
    "st.t.interval(confidence, len(footballPlayers)-1, loc = height.mean(), scale = st.sem(height))"
   ]
  },
  {
   "cell_type": "markdown",
   "id": "101d82c4-ad05-4d5a-b872-135cd08a4749",
   "metadata": {},
   "source": [
    "I can conclude that the higher the confidence, the larger the interval. I also noticed that if you don't drop NaN values from your column, \"st.sem()\" will return a NaN value and you won't be able to determine your confidence interval."
   ]
  },
  {
   "cell_type": "markdown",
   "id": "23056087-f6ae-4378-a13d-fe128effde9d",
   "metadata": {},
   "source": [
    "Now, let's calculate the 95% confidence intervals for only the first 10% of the rows in our dataset and later compare them to the first 95% confidence intervals."
   ]
  },
  {
   "cell_type": "code",
   "execution_count": 69,
   "id": "609567ca-9154-4bf9-a040-67634895507a",
   "metadata": {},
   "outputs": [
    {
     "name": "stdout",
     "output_type": "stream",
     "text": [
      "(1.8205700646370335, 1.8381991661321972)\n"
     ]
    }
   ],
   "source": [
    "confidence = 0.95\n",
    "height10 = height.iloc[: int(len(height) * 0.1)]\n",
    "\n",
    "height10Rows95 = st.t.interval(confidence, len(height10)-1, loc = height10.mean(), scale = st.sem(height10))\n",
    "print(height10Rows95)"
   ]
  },
  {
   "cell_type": "code",
   "execution_count": 70,
   "id": "66c72b80-f4a9-4cc5-940d-70711149da90",
   "metadata": {},
   "outputs": [
    {
     "name": "stdout",
     "output_type": "stream",
     "text": [
      "(36.545661979531964, 44.06818417431419)\n"
     ]
    }
   ],
   "source": [
    "maxPrice10 = maxPrice.iloc[: int(len(maxPrice) * 0.1)]\n",
    "\n",
    "maxPrice10Rows95 = st.t.interval(confidence, len(maxPrice10)-1, loc = maxPrice10.mean(), scale = st.sem(maxPrice10))\n",
    "print(maxPrice10Rows95)"
   ]
  },
  {
   "cell_type": "markdown",
   "id": "dc475290-1948-4c93-b0c2-f9c5cba48bfd",
   "metadata": {},
   "source": [
    "Time to compare.."
   ]
  },
  {
   "cell_type": "code",
   "execution_count": 76,
   "id": "2834c8fa-5600-480c-a536-b6bf0b5a1031",
   "metadata": {},
   "outputs": [
    {
     "name": "stdout",
     "output_type": "stream",
     "text": [
      "The 95% confidence interval of all rows of column max_price:\n",
      "(16.461649779667592, 18.147809161238012)\n",
      "\n",
      "The 95% confidence interval of the first 10% of rows of column max_price:\n",
      "(36.545661979531964, 44.06818417431419)\n",
      "\n",
      "The 95% confidence interval of all rows of column height:\n",
      "(1.8283060983185335, 1.833477830939444)\n",
      "\n",
      "The 95% confidence interval of the first 10% of rows of column height:\n",
      "(1.8205700646370335, 1.8381991661321972)\n"
     ]
    }
   ],
   "source": [
    "print(f\"The 95% confidence interval of all rows of column max_price:\\n{maxPriceAllRows95}\")\n",
    "print(f\"\\nThe 95% confidence interval of the first 10% of rows of column max_price:\\n{maxPrice10Rows95}\")\n",
    "print(f\"\\nThe 95% confidence interval of all rows of column height:\\n{heightAllRows95}\")\n",
    "print(f\"\\nThe 95% confidence interval of the first 10% of rows of column height:\\n{height10Rows95}\")"
   ]
  },
  {
   "cell_type": "markdown",
   "id": "48855f1f-0d4d-414a-a290-867f4837e529",
   "metadata": {},
   "source": [
    "I notice that the amount of data we have is crucial in order to get a better understanding and certainty of it. So the more data, the more precise our confidence interval."
   ]
  }
 ],
 "metadata": {
  "kernelspec": {
   "display_name": "Python 3 (ipykernel)",
   "language": "python",
   "name": "python3"
  },
  "language_info": {
   "codemirror_mode": {
    "name": "ipython",
    "version": 3
   },
   "file_extension": ".py",
   "mimetype": "text/x-python",
   "name": "python",
   "nbconvert_exporter": "python",
   "pygments_lexer": "ipython3",
   "version": "3.12.7"
  }
 },
 "nbformat": 4,
 "nbformat_minor": 5
}
