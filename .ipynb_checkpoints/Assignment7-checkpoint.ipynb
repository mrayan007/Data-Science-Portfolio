{
 "cells": [
  {
   "cell_type": "markdown",
   "id": "2aa62207-d342-49c0-94d1-6b0a5b9bf0a4",
   "metadata": {},
   "source": [
    "# Assignment 7"
   ]
  },
  {
   "cell_type": "markdown",
   "id": "ecc12da6-4b2c-479d-addb-cb11975aead7",
   "metadata": {},
   "source": [
    "Let's import our dataset!"
   ]
  },
  {
   "cell_type": "code",
   "execution_count": 1,
   "id": "a8d81c99-4acf-4fb5-b19a-9cb997ca288c",
   "metadata": {},
   "outputs": [
    {
     "data": {
      "text/html": [
       "<div>\n",
       "<style scoped>\n",
       "    .dataframe tbody tr th:only-of-type {\n",
       "        vertical-align: middle;\n",
       "    }\n",
       "\n",
       "    .dataframe tbody tr th {\n",
       "        vertical-align: top;\n",
       "    }\n",
       "\n",
       "    .dataframe thead th {\n",
       "        text-align: right;\n",
       "    }\n",
       "</style>\n",
       "<table border=\"1\" class=\"dataframe\">\n",
       "  <thead>\n",
       "    <tr style=\"text-align: right;\">\n",
       "      <th></th>\n",
       "      <th>Unnamed: 0</th>\n",
       "      <th>name</th>\n",
       "      <th>full_name</th>\n",
       "      <th>age</th>\n",
       "      <th>height</th>\n",
       "      <th>nationality</th>\n",
       "      <th>place_of_birth</th>\n",
       "      <th>price</th>\n",
       "      <th>max_price</th>\n",
       "      <th>position</th>\n",
       "      <th>shirt_nr</th>\n",
       "      <th>foot</th>\n",
       "      <th>club</th>\n",
       "      <th>contract_expires</th>\n",
       "      <th>joined_club</th>\n",
       "      <th>player_agent</th>\n",
       "      <th>outfitter</th>\n",
       "      <th>league</th>\n",
       "    </tr>\n",
       "  </thead>\n",
       "  <tbody>\n",
       "    <tr>\n",
       "      <th>0</th>\n",
       "      <td>0</td>\n",
       "      <td>Ederson</td>\n",
       "      <td>NaN</td>\n",
       "      <td>29</td>\n",
       "      <td>1.88</td>\n",
       "      <td>Brazil  Portugal</td>\n",
       "      <td>Osasco (SP)</td>\n",
       "      <td>45.00</td>\n",
       "      <td>70.0</td>\n",
       "      <td>Goalkeeper</td>\n",
       "      <td>31</td>\n",
       "      <td>left</td>\n",
       "      <td>Man City</td>\n",
       "      <td>2026-06-30</td>\n",
       "      <td>2017-07-01</td>\n",
       "      <td>Gestifute</td>\n",
       "      <td>Puma</td>\n",
       "      <td>EPL</td>\n",
       "    </tr>\n",
       "    <tr>\n",
       "      <th>1</th>\n",
       "      <td>1</td>\n",
       "      <td>Stefan Ortega</td>\n",
       "      <td>Stefan Ortega Moreno</td>\n",
       "      <td>30</td>\n",
       "      <td>1.85</td>\n",
       "      <td>Germany  Spain</td>\n",
       "      <td>Hofgeismar</td>\n",
       "      <td>6.00</td>\n",
       "      <td>6.0</td>\n",
       "      <td>Goalkeeper</td>\n",
       "      <td>18</td>\n",
       "      <td>right</td>\n",
       "      <td>Man City</td>\n",
       "      <td>2025-06-30</td>\n",
       "      <td>2022-07-01</td>\n",
       "      <td>neblung ...</td>\n",
       "      <td>NaN</td>\n",
       "      <td>EPL</td>\n",
       "    </tr>\n",
       "    <tr>\n",
       "      <th>2</th>\n",
       "      <td>2</td>\n",
       "      <td>Scott Carson</td>\n",
       "      <td>Scott Paul Carson</td>\n",
       "      <td>37</td>\n",
       "      <td>1.88</td>\n",
       "      <td>England</td>\n",
       "      <td>Whitehaven</td>\n",
       "      <td>0.25</td>\n",
       "      <td>6.0</td>\n",
       "      <td>Goalkeeper</td>\n",
       "      <td>33</td>\n",
       "      <td>right</td>\n",
       "      <td>Man City</td>\n",
       "      <td>2023-06-30</td>\n",
       "      <td>2021-07-20</td>\n",
       "      <td>Wasserman</td>\n",
       "      <td>Puma</td>\n",
       "      <td>EPL</td>\n",
       "    </tr>\n",
       "    <tr>\n",
       "      <th>3</th>\n",
       "      <td>3</td>\n",
       "      <td>Rúben Dias</td>\n",
       "      <td>Rúben Santos Gato Alves Dias</td>\n",
       "      <td>26</td>\n",
       "      <td>1.87</td>\n",
       "      <td>Portugal</td>\n",
       "      <td>Amadora</td>\n",
       "      <td>75.00</td>\n",
       "      <td>75.0</td>\n",
       "      <td>Defender - Centre-Back</td>\n",
       "      <td>3</td>\n",
       "      <td>right</td>\n",
       "      <td>Man City</td>\n",
       "      <td>2027-06-30</td>\n",
       "      <td>2020-09-29</td>\n",
       "      <td>Gestifute</td>\n",
       "      <td>Nike</td>\n",
       "      <td>EPL</td>\n",
       "    </tr>\n",
       "    <tr>\n",
       "      <th>4</th>\n",
       "      <td>4</td>\n",
       "      <td>Nathan Aké</td>\n",
       "      <td>Nathan Benjamin Aké</td>\n",
       "      <td>28</td>\n",
       "      <td>1.80</td>\n",
       "      <td>Netherlands  Cote d'Ivoire</td>\n",
       "      <td>Den Haag</td>\n",
       "      <td>35.00</td>\n",
       "      <td>40.0</td>\n",
       "      <td>Defender - Centre-Back</td>\n",
       "      <td>6</td>\n",
       "      <td>left</td>\n",
       "      <td>Man City</td>\n",
       "      <td>2025-06-30</td>\n",
       "      <td>2020-08-05</td>\n",
       "      <td>Wasserman</td>\n",
       "      <td>Nike</td>\n",
       "      <td>EPL</td>\n",
       "    </tr>\n",
       "  </tbody>\n",
       "</table>\n",
       "</div>"
      ],
      "text/plain": [
       "   Unnamed: 0           name                     full_name  age  height  \\\n",
       "0           0        Ederson                           NaN   29    1.88   \n",
       "1           1  Stefan Ortega          Stefan Ortega Moreno   30    1.85   \n",
       "2           2   Scott Carson             Scott Paul Carson   37    1.88   \n",
       "3           3     Rúben Dias  Rúben Santos Gato Alves Dias   26    1.87   \n",
       "4           4     Nathan Aké           Nathan Benjamin Aké   28    1.80   \n",
       "\n",
       "                  nationality place_of_birth  price  max_price  \\\n",
       "0            Brazil  Portugal    Osasco (SP)  45.00       70.0   \n",
       "1              Germany  Spain     Hofgeismar   6.00        6.0   \n",
       "2                     England     Whitehaven   0.25        6.0   \n",
       "3                    Portugal        Amadora  75.00       75.0   \n",
       "4  Netherlands  Cote d'Ivoire       Den Haag  35.00       40.0   \n",
       "\n",
       "                 position  shirt_nr   foot      club contract_expires  \\\n",
       "0              Goalkeeper        31   left  Man City       2026-06-30   \n",
       "1              Goalkeeper        18  right  Man City       2025-06-30   \n",
       "2              Goalkeeper        33  right  Man City       2023-06-30   \n",
       "3  Defender - Centre-Back         3  right  Man City       2027-06-30   \n",
       "4  Defender - Centre-Back         6   left  Man City       2025-06-30   \n",
       "\n",
       "  joined_club player_agent outfitter league  \n",
       "0  2017-07-01    Gestifute      Puma    EPL  \n",
       "1  2022-07-01  neblung ...       NaN    EPL  \n",
       "2  2021-07-20    Wasserman      Puma    EPL  \n",
       "3  2020-09-29    Gestifute      Nike    EPL  \n",
       "4  2020-08-05    Wasserman      Nike    EPL  "
      ]
     },
     "execution_count": 1,
     "metadata": {},
     "output_type": "execute_result"
    }
   ],
   "source": [
    "import pandas as pd\n",
    "import seaborn as sns\n",
    "\n",
    "footballPlayers = pd.read_csv(\"top5_leagues_player.csv\")\n",
    "footballPlayers.head()"
   ]
  },
  {
   "cell_type": "markdown",
   "id": "1bf0d6ec-23e9-4340-8f5b-71e10e981578",
   "metadata": {},
   "source": [
    "For this assignment, I'm choosing columns \"age\" and \"shirt_nr\"."
   ]
  },
  {
   "cell_type": "code",
   "execution_count": 4,
   "id": "0d6513a5-6150-47f3-973a-98018f040495",
   "metadata": {},
   "outputs": [
    {
     "data": {
      "text/plain": [
       "<Axes: ylabel='Frequency'>"
      ]
     },
     "execution_count": 4,
     "metadata": {},
     "output_type": "execute_result"
    },
    {
     "data": {
      "image/png": "[encoded data removed]",
      "text/plain": [
       "<Figure size 640x480 with 1 Axes>"
      ]
     },
     "metadata": {},
     "output_type": "display_data"
    }
   ],
   "source": [
    "footballPlayers['age'].plot(kind = 'hist', bins = 20)"
   ]
  },
  {
   "cell_type": "markdown",
   "id": "e3acba95-6a3d-4607-aa5b-e74db3d1e2be",
   "metadata": {},
   "source": [
    "To me, this looks like a Poisson Distribution. It looks almost like a Normal Distribution but there are 2 peaks. (I'm not sure..)"
   ]
  },
  {
   "cell_type": "code",
   "execution_count": 6,
   "id": "8538a5c5-8e92-483f-8996-eb005cea9e27",
   "metadata": {},
   "outputs": [
    {
     "data": {
      "text/plain": [
       "<Axes: ylabel='Frequency'>"
      ]
     },
     "execution_count": 6,
     "metadata": {},
     "output_type": "execute_result"
    },
    {
     "data": {
      "image/png": "[encoded data removed]",
      "text/plain": [
       "<Figure size 640x480 with 1 Axes>"
      ]
     },
     "metadata": {},
     "output_type": "display_data"
    }
   ],
   "source": [
    "footballPlayers['shirt_nr'].plot(kind = 'hist', bins = 20)"
   ]
  },
  {
   "cell_type": "markdown",
   "id": "b1f4e939-6655-4efc-b34e-beb3897033c7",
   "metadata": {},
   "source": [
    "This is clearly a Skewed Distribution because it stars with a peak and exponentially drops as the numbers increase."
   ]
  }
 ],
 "metadata": {
  "kernelspec": {
   "display_name": "Python 3 (ipykernel)",
   "language": "python",
   "name": "python3"
  },
  "language_info": {
   "codemirror_mode": {
    "name": "ipython",
    "version": 3
   },
   "file_extension": ".py",
   "mimetype": "text/x-python",
   "name": "python",
   "nbconvert_exporter": "python",
   "pygments_lexer": "ipython3",
   "version": "3.12.7"
  }
 },
 "nbformat": 4,
 "nbformat_minor": 5
}
